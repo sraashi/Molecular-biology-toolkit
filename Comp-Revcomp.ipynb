{
 "cells": [
  {
   "cell_type": "code",
   "execution_count": 2,
   "metadata": {
    "collapsed": false
   },
   "outputs": [],
   "source": [
    "import os\n",
    "import pandas as pd\n",
    "\n",
    "df = pd.read_csv('dna.csv')\n",
    "df.head()\n",
    "df['comp']=''\n",
    "df['revcomp']=''\n",
    "\n",
    "for i in df.index:\n",
    "    abc = df.dna[i].replace('A','B').replace('T','D').replace('G','X').replace('C','Y')\n",
    "    df.comp[i] = abc.replace('B','T').replace('D','A').replace('X','C').replace('Y','G')\n",
    "    df.revcomp[i] = df.comp[i][::-1]\n",
    "    \n",
    "df.to_csv('dnaout.csv')"
   ]
  }
 ],
 "metadata": {
  "anaconda-cloud": {},
  "kernelspec": {
   "display_name": "Python [default]",
   "language": "python",
   "name": "python3"
  },
  "language_info": {
   "codemirror_mode": {
    "name": "ipython",
    "version": 3
   },
   "file_extension": ".py",
   "mimetype": "text/x-python",
   "name": "python",
   "nbconvert_exporter": "python",
   "pygments_lexer": "ipython3",
   "version": "3.5.2"
  }
 },
 "nbformat": 4,
 "nbformat_minor": 1
}
