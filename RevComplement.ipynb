{
 "cells": [
  {
   "cell_type": "code",
   "execution_count": 2,
   "metadata": {
    "collapsed": false
   },
   "outputs": [
    {
     "data": {
      "text/plain": [
       "<bound method NDFrame.describe of                    Sequences                    RevComp\n",
       "0       ATGCGTGATTGCGGATAGTC       GACTATCCGCAATCACGCAT\n",
       "1         TGCTGATGGCTGATGGCT         AGCCATCAGCCATCAGCA\n",
       "2  GTCGGTCGAATAGCTGATGGGCTGC  GCAGCCCATCAGCTATTCGACCGAC\n",
       "3      GCGCGTGGATAATATAGGCTA      TAGCCTATATTATCCACGCGC>"
      ]
     },
     "execution_count": 2,
     "metadata": {},
     "output_type": "execute_result"
    }
   ],
   "source": [
    "def ReverseComplement(Pattern):\n",
    "    revComp = '' # output variable\n",
    "  \n",
    "    Comp = ''\n",
    "    # your code here\n",
    "    text1 = ''\n",
    "    text1 = Pattern\n",
    "    for i in range(len(text1)):\n",
    "        if text1[i] == 'A':\n",
    "                Comp +='T'\n",
    "        elif text1[i] == 'G':\n",
    "                Comp  += 'C'\n",
    "        elif text1[i]== 'C':\n",
    "                Comp += 'G'\n",
    "        elif text1[i] == 'T':\n",
    "                Comp += 'A'\n",
    "\n",
    "    for i in range(len(Comp)):\n",
    "        revComp += Comp[len(Comp) - i- 1]\n",
    "    #print (\"Seq is \" + revComp)\n",
    "    return revComp\n",
    "\n",
    "import pandas as pd\n",
    "data = pd.read_csv(r\"trialcsv.csv\", low_memory=False)\n",
    "data['RevComp'] =''\n",
    "\n",
    "for i in data.index:\n",
    "    data.RevComp[i] = ReverseComplement(data.Sequences[i])\n",
    "\n",
    "data.to_csv(r'trialout.csv')\n",
    "\n",
    "data.describe\n",
    "    \n"
   ]
  },
  {
   "cell_type": "code",
   "execution_count": null,
   "metadata": {
    "collapsed": false
   },
   "outputs": [],
   "source": []
  },
  {
   "cell_type": "code",
   "execution_count": null,
   "metadata": {
    "collapsed": false
   },
   "outputs": [],
   "source": []
  },
  {
   "cell_type": "code",
   "execution_count": null,
   "metadata": {
    "collapsed": true
   },
   "outputs": [],
   "source": []
  }
 ],
 "metadata": {
  "anaconda-cloud": {},
  "kernelspec": {
   "display_name": "Python [default]",
   "language": "python",
   "name": "python3"
  },
  "language_info": {
   "codemirror_mode": {
    "name": "ipython",
    "version": 3
   },
   "file_extension": ".py",
   "mimetype": "text/x-python",
   "name": "python",
   "nbconvert_exporter": "python",
   "pygments_lexer": "ipython3",
   "version": "3.5.2"
  }
 },
 "nbformat": 4,
 "nbformat_minor": 1
}
