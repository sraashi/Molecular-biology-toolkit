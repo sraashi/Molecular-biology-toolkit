{
 "cells": [
  {
   "cell_type": "code",
   "execution_count": null,
   "metadata": {
    "collapsed": true
   },
   "outputs": [],
   "source": []
  },
  {
   "cell_type": "code",
   "execution_count": 190,
   "metadata": {
    "collapsed": false
   },
   "outputs": [
    {
     "name": "stdout",
     "output_type": "stream",
     "text": [
      "YCRCVTLRSSX\n",
      "MRADAAALGSL\n",
      "RSCXTDRXLTD\n",
      "CMTDLVAAAIYN\n",
      "\n",
      "\n",
      "\n"
     ]
    }
   ],
   "source": [
    "import csv\n",
    "\n",
    "AA = []\n",
    "dict = {}\n",
    "Protein = []\n",
    "\n",
    "with open(\".\\Documents\\CodonTable.csv\") as file: #open Codon table file\n",
    "    reader = csv.reader(file)\n",
    "    for row in reader:\n",
    "        if row[3] in AA:\n",
    "            dict[row[3]].append(row[0])\n",
    "            continue\n",
    "        else:    \n",
    "            AA.append(row[3])\n",
    "            dict[row[3]] = []\n",
    "            dict[row[3]].append(row[0])\n",
    "        \n",
    "  \n",
    "\n",
    "with open(\".\\Documents\\Python Scripts\\DNAtoProtein.csv\",'w+') as wri, open(\".\\Documents\\Python Scripts\\DNAseq.csv\") as f:\n",
    "    writer = csv.writer(wri, lineterminator='\\n')\n",
    "    seq = csv.reader(f)\n",
    "    for row in seq:\n",
    "        i=0\n",
    "        P = []\n",
    "        while i in range(len(row[0])-2):\n",
    "            x = row[0][i:i+3]\n",
    "            for k,v in dict.items():\n",
    "                for y in v:\n",
    "                    if x == y:\n",
    "                        #print (k)\n",
    "                        P.append(k)\n",
    "            i = i+3 \n",
    "        Full_seq = \"\".join(P)\n",
    "        Protein.append(Full_seq)\n",
    "        print (Full_seq)\n",
    "    \n",
    "    \n",
    "    for item in Protein:\n",
    "        \n",
    "        writer.writerow([item])   \n",
    "        \n",
    "    \n",
    "\n",
    "    \n",
    "        \n"
   ]
  },
  {
   "cell_type": "code",
   "execution_count": null,
   "metadata": {
    "collapsed": true
   },
   "outputs": [],
   "source": []
  },
  {
   "cell_type": "code",
   "execution_count": null,
   "metadata": {
    "collapsed": true
   },
   "outputs": [],
   "source": []
  },
  {
   "cell_type": "code",
   "execution_count": null,
   "metadata": {
    "collapsed": true
   },
   "outputs": [],
   "source": []
  },
  {
   "cell_type": "code",
   "execution_count": null,
   "metadata": {
    "collapsed": true
   },
   "outputs": [],
   "source": []
  }
 ],
 "metadata": {
  "kernelspec": {
   "display_name": "Python [conda root]",
   "language": "python",
   "name": "conda-root-py"
  },
  "language_info": {
   "codemirror_mode": {
    "name": "ipython",
    "version": 3
   },
   "file_extension": ".py",
   "mimetype": "text/x-python",
   "name": "python",
   "nbconvert_exporter": "python",
   "pygments_lexer": "ipython3",
   "version": "3.5.2"
  }
 },
 "nbformat": 4,
 "nbformat_minor": 2
}
